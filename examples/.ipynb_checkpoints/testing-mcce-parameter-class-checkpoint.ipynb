{
 "cells": [
  {
   "cell_type": "markdown",
   "metadata": {
    "collapsed": true
   },
   "source": [
    "The MCCE Parameter Class\n",
    "--\n",
    "\n",
    "The idea behind MCCE parameter class is to enable:\n",
    "* automated creation of run.prm files\n",
    "* editing of MCCE parameters\n",
    "\n",
    "The `MCCEParams` class in `automate-mcce` module tries to accompish just that. Here we will import that class and try out some of its functionality.\n",
    "First things first, let's import it and look at its documentation:"
   ]
  },
  {
   "cell_type": "code",
   "execution_count": null,
   "metadata": {
    "collapsed": false
   },
   "outputs": [],
   "source": [
    "%load_ext autoreload\n",
    "%autoreload 2\n",
    "\n",
    "import sys\n",
    "sys.path.append(\"/home/kamran/automate-mcce/\")\n",
    "from automated_mcce import MCCEParams\n",
    "help(MCCEParams)\n"
   ]
  },
  {
   "cell_type": "markdown",
   "metadata": {
    "collapsed": true
   },
   "source": [
    "Let's now use MCCEParams class to create a simple MCCE parameter object. As shown above, we need to specifiy the location of MCCE installation. Additionally, we can provide `calculation_type`, which is by default set to `quick'."
   ]
  },
  {
   "cell_type": "code",
   "execution_count": 11,
   "metadata": {
    "collapsed": false
   },
   "outputs": [],
   "source": [
    "parm = MCCEParams(\"/home/kamran/mcce\", calculation_type=\"full\")"
   ]
  },
  {
   "cell_type": "markdown",
   "metadata": {},
   "source": [
    "Note that `parms` object already contains the MCCE control parameter dictionary, let's tweak some parameters."
   ]
  },
  {
   "cell_type": "code",
   "execution_count": 12,
   "metadata": {
    "collapsed": false
   },
   "outputs": [
    {
     "name": "stdout",
     "output_type": "stream",
     "text": [
      "The current parameter values are: \n",
      "INPDB prot.pdb                                                   \n",
      "DO_PREMCCE f        step 1: pre-run, pdb-> mcce pdb                   \n",
      "DO_ROTAMERS f        step 2: make rotatmers                            \n",
      "DO_ENERGY f        step 3: do energy calculations                    \n",
      "DO_MONTE f        step 4: monte carlo sampling                      \n",
      "EPSILON_PROT 8.0      Protein dielectric constant for DelPhi            \n",
      "EXTRA /home/kamran/mcce/extra.tpl                            \n",
      "RENAME_RULES /home/kamran/mcce/name.txt MCCE renaming rule.         \n",
      "TITR_TYPE ph       \"ph\" for pH titration, \"eh\" for eh titration      \n",
      "TITR_PH0 0.0      Initial pH                                        \n",
      "TITR_PHD 1.0      pH interval                                       \n",
      "TITR_EH0 0.0      Initial Eh                                        \n",
      "TITR_EHD 30.0     Eh interval (in mV)                               \n",
      "TITR_STEPS 15       Number of titration points                        \n",
      "MCCE_HOME /home/kamran/mcce                                         \n",
      "MINIMIZE_SIZE t       Minimize output files                              \n",
      "TERMINALS t        Label terminal residues?                          \n",
      "H2O_SASCUTOFF 0.1      cut off water if % SAS exceeds this number        \n",
      "CLASH_DISTANCE 2.0      distance limit of reporting clashes               \n",
      "ROT_SPECIF f        Use control file \"head1.lst\" for rotamer making   \n",
      "ROT_SWAP t        Do swap (stereo isotope)                          \n",
      "PACK t        Do rotate?                                        \n",
      "ROTATIONS 6        number of rotamers in a bond rotation             \n",
      "SWING f        Do swing?                                         \n",
      "PHI_SWING 10.0     phi in degrees of swing                           \n",
      "SAS_CUTOFF 1.00     SAS cuttoff of making fewer rotamers              \n",
      "VDW_CUTOFF 10.0     Cutoff of self vdw in kcal/mol                    \n",
      "REPACKS 5000     number of repacks                                 \n",
      "REPACK_CUTOFF 0.03     occupancy cutoff of repacks                       \n",
      "HDIRECTED t        h-bond directed rotamer making                    \n",
      "HDIRDIFF 1.0      threshold for two conformers being different      \n",
      "HDIRLIMT 36       Limit number of the H bond conformers             \n",
      "RELAX_WAT f        Do relaxation on water                            \n",
      "WATER_RELAX_THR 3.2      if distance between water and heavy atom is smaller than this, move water away \n",
      "HV_RELAX_NCYCLE 10       number of cycles to relax rotamer clash           \n",
      "HV_RELAX_DT 10       time (in fs) for each relaxation iteration        \n",
      "HV_RELAX_NITER 10       number of iterations                              \n",
      "HV_RELAX_VDW_THR 2.       relax rotamer if vdw interaction is bigger than this\n",
      "HV_RELAX_HV_VDW_THR 5.       not relax rotamer if heavy atom vdw is bigger than this\n",
      "HV_TORS_SCALE 20.      scaling factor for torsion during relaxation      \n",
      "HV_RELAX_N_SHAKE 10000    maximun n steps of shake                          \n",
      "HV_RELAX_SHAKE_TOL 0.001    maximun allowance for bond length to deviate      \n",
      "HV_RELAX_CONSTRAINT 1.0      constraint distance                               \n",
      "HV_RELAX_CONSTRAINT_FRC 20.      constraint force for atom stay in original position\n",
      "HV_RELAX_INCLUDE_NGH f        include neighbors when doing relaxation (expensive)\n",
      "HV_RELAX_NGH_THR 4.0      threshold for include as a neighbor during relaxation\n",
      "RELAX_H t        Do relaxation on hydrogens                        \n",
      "RELAX_E_THR -5.0     Energy threshold for keeping the conformer        \n",
      "RELAX_NSTATES 200      Loop over N local microstates                     \n",
      "RELAX_N_HYD 6        default number of hydroxyl positions              \n",
      "RELAX_CLASH_THR 5.       do not relax hydrogen if vdw bwt two sidechain conformer bigger than this   \n",
      "RELAX_PHI 1.0      phi for each step of relaxation                   \n",
      "RELAX_NITER 300      Maximum number of steps of relaxation             \n",
      "RELAX_TORQ_THR 0.5      Torque threshold for keep relaxing                \n",
      "PRUNE_THR 0.02     Last pruning threshold for conformers             \n",
      "PRUNE_RMSD 0.5      Pruning cutoff of RMSD                            \n",
      "PRUNE_ELE 1.0      Pruning cutoff of eletrostatic pairwise           \n",
      "PRUNE_VDW 8.0      Pruning cutoff of vdw pairwise                    \n",
      "NCONF_LIMIT 0        maximum number of conformer per residue ( 0=unlimited )\n",
      "QUICK_ENERGIES f        Use SAS + Coulomb's law for ele interaction       \n",
      "DELPHI_EXE /home/kamran/mcce/bin/delphi DelPhi executable            \n",
      "EPSILON_SOLV 80.0     Solvent dielectric constant for DelPhi            \n",
      "GRIDS_DELPHI 65       Grids in each DelPhi                              \n",
      "GRIDS_PER_ANG 2.0      The target grids per angstrom for DelPhi          \n",
      "RADIUS_PROBE 1.4      Radius of the probe                               \n",
      "IONRAD 2.0      Ion radius                                        \n",
      "SALT 0.15     Salt                                              \n",
      "REASSIGN f        Reassign charge and radii before delphi(if not true then use value in PDB file)\n",
      "RECALC_TORS f        Recalculate torsions energy when write out head3.lst\n",
      "AVERAGE_PAIRWISE f        Average the pairwise, \"f\" uses the smaller        \n",
      "WARN_PAIRWISE 20.      Warnning Threshold of difference in pairwise      \n",
      "BIG_PAIRWISE 5.0      Big pairwise threshold to make big list           \n",
      "MONTE_SEED -1       Random seed, -1 uses time as random seed          \n",
      "MONTE_T 298.15   Temperature                                       \n",
      "MONTE_FLIPS 3        Number of flips                                   \n",
      "MONTE_NSTART 100      Annealing = n_start * confs                       \n",
      "MONTE_NEQ 500      Equalibration = n_eq * confs                      \n",
      "MONTE_REDUCE 0.001    Cut-off occupancy of the reduction                \n",
      "MONTE_RUNS 2        Number of independent monte carlo sampling        \n",
      "MONTE_NITER 2000     Sampling = n_iter * confs                         \n",
      "MONTE_TRACE 20000    Trace energy each MONTE_TRACE steps, 0 no trace   \n",
      "NSTATE_MAX 1000000  Maximum microstates for analytical solution       \n",
      "MONTE_TSX t        Do entropy correction                             \n",
      "MONTE_ADV_OPT t        Using Yifan's monte carlo                         \n",
      "MONTE_OLD_INPUT f        Using format from old version                     \n",
      "MONTE_NITER_MIN 5000     Min Sampling = n_iter * confs                     \n",
      "MONTE_NITER_MAX -1       Max Sampling = n_iter * confs(-1 stop @ converge) \n",
      "MONTE_NITER_CYCLE 10000    Number of iterations each cycle                   \n",
      "MONTE_NITER_CHK 1000     niter * n_conf check convergence                  \n",
      "MONTE_N_REDUCE -1       Number of the reduce steps(-1 stop @ converge)    \n",
      "MONTE_CONVERGE 0.01     Threshhold for convergence                        \n",
      "MONTE_DO_ENERGY f        Calculate free energy                             \n",
      "ANNEAL_TEMP_START 298.15   Starting temperature for annealling               \n",
      "ANNEAL_NSTEP 0        Number of steps of annealling                     \n",
      "ANNEAL_NITER_STEP 1000     Number of iterations for each annealling step     \n",
      "DELPHI_START 1         delphi start conformer number, 0 based           \n",
      "DELPHI_END 99999     delphi end conformer number, self included       \n",
      "SKIP_ELE f        skip delphi in step3 (DEBUG option)               \n",
      "DELPHI_FOLDER /tmp     delphi temporary file folder, \"/tmp\" uses node    \n",
      "DELPHI_CLEAN t        clean up delphi focusing directory?               \n",
      "DEBUG_LOG debug.log                                                  \n",
      "NEWTPL new.tpl     local parameter file for unrecognized res      \n",
      "DEFAULT_RADIUS 1.7      defalut van der Waals radius, for SAS             \n",
      "FACTOR_14LJ 0.5      factor to 1-4 LJ potontial (1.0 is full)          \n",
      "EPSILON_COLUMB 1.0      dielectric constant for Coulomb's law             \n"
     ]
    }
   ],
   "source": [
    "print \"The current parameter values are: \"\n",
    "for key in parm.mcce_params:\n",
    "    print key, parm.mcce_params[key][0], parm.mcce_params[key][1] "
   ]
  },
  {
   "cell_type": "code",
   "execution_count": 28,
   "metadata": {
    "collapsed": false
   },
   "outputs": [
    {
     "name": "stdout",
     "output_type": "stream",
     "text": [
      "['t', '       step 1: pre-run, pdb-> mcce pdb                   ']\n",
      "['t', '       step 2: make rotatmers                            ']\n",
      "['t', '       step 3: do energy calculations                    ']\n"
     ]
    }
   ],
   "source": [
    "parm.edit_parameters(DO_PREMCCE=\"t\", DO_ROTAMERS=\"t\", DO_ENERGY=\"t\")\n",
    "# to confirm\n",
    "print parm.mcce_params[\"DO_PREMCCE\"]\n",
    "print parm.mcce_params[\"DO_ROTAMERS\"]\n",
    "print parm.mcce_params[\"DO_ENERGY\"]\n"
   ]
  },
  {
   "cell_type": "code",
   "execution_count": 29,
   "metadata": {
    "collapsed": true
   },
   "outputs": [],
   "source": [
    "parm.write_runprm(\"\")"
   ]
  },
  {
   "cell_type": "code",
   "execution_count": 31,
   "metadata": {
    "collapsed": false
   },
   "outputs": [
    {
     "name": "stdout",
     "output_type": "stream",
     "text": [
      "prot.pdb                                                    (INPDB)\r\n",
      "t        step 1: pre-run, pdb-> mcce pdb                    (DO_PREMCCE)\r\n",
      "t        step 2: make rotatmers                             (DO_ROTAMERS)\r\n",
      "t        step 3: do energy calculations                     (DO_ENERGY)\r\n",
      "f        step 4: monte carlo sampling                       (DO_MONTE)\r\n",
      "8.0      Protein dielectric constant for DelPhi             (EPSILON_PROT)\r\n",
      "/home/kamran/mcce/extra.tpl                             (EXTRA)\r\n",
      "/home/kamran/mcce/name.txt MCCE renaming rule.          (RENAME_RULES)\r\n",
      "ph       \"ph\" for pH titration, \"eh\" for eh titration       (TITR_TYPE)\r\n",
      "0.0      Initial pH                                         (TITR_PH0)\r\n"
     ]
    }
   ],
   "source": [
    "! head run.prm"
   ]
  },
  {
   "cell_type": "code",
   "execution_count": null,
   "metadata": {
    "collapsed": false
   },
   "outputs": [],
   "source": []
  },
  {
   "cell_type": "code",
   "execution_count": null,
   "metadata": {
    "collapsed": true
   },
   "outputs": [],
   "source": []
  }
 ],
 "metadata": {
  "kernelspec": {
   "display_name": "Python 2",
   "language": "python",
   "name": "python2"
  },
  "language_info": {
   "codemirror_mode": {
    "name": "ipython",
    "version": 2
   },
   "file_extension": ".py",
   "mimetype": "text/x-python",
   "name": "python",
   "nbconvert_exporter": "python",
   "pygments_lexer": "ipython2",
   "version": "2.7.11"
  }
 },
 "nbformat": 4,
 "nbformat_minor": 0
}
