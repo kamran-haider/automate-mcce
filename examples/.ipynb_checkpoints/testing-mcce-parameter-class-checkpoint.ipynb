{
 "cells": [
  {
   "cell_type": "markdown",
   "metadata": {
    "collapsed": true
   },
   "source": [
    "The MCCE Parameter Class\n",
    "--\n",
    "\n",
    "The idea behind MCCE parameter class is to enable:\n",
    "* automated creation of run.prm files\n",
    "* editing of MCCE parameters\n",
    "\n",
    "The `MCCEParams` class in `automate-mcce` module tries to accompish just that. Here we will import that class and try out some of its functionality.\n",
    "First things first, let's import it and look at its documentation:"
   ]
  },
  {
   "cell_type": "code",
   "execution_count": 13,
   "metadata": {
    "collapsed": false
   },
   "outputs": [
    {
     "name": "stdout",
     "output_type": "stream",
     "text": [
      "Help on class MCCEParams in module automated_mcce:\n",
      "\n",
      "class MCCEParams(__builtin__.object)\n",
      " |  A class representing an MCCE parameter file\n",
      " |  \n",
      " |  Notes\n",
      " |  -----\n",
      " |          This class uses run.prm.quick as a template file to build an MCCE parameter object.\n",
      " |          Should there be an option to initialize with quick or full (?)\n",
      " |  \n",
      " |  Methods defined here:\n",
      " |  \n",
      " |  __init__(self, mcce_directory, calculation_type='quick')\n",
      " |      Initialize parameters for an MCCE calculation.\n",
      " |      \n",
      " |      Parameters\n",
      " |      ----------\n",
      " |      mcce_directory : str\n",
      " |              A string containing full path of the MCCE installation directory.\n",
      " |      calculation_type : str, default=quick\n",
      " |              A string specifying the type of MCCE calculation, if not specified \"quick\" is used by default.\n",
      " |  \n",
      " |  edit_parameters(self, **kwargs)\n",
      " |      Edits MCCE parameters by updating values in MCCE parameter dictionary keys.\n",
      " |      \n",
      " |      Parameters\n",
      " |      ----------\n",
      " |      **kwargs : Arbitrary keyword arguments\n",
      " |              Any number of parameters can be specified as MCCE_PARAM=\"VALUE\", where MCCE_PARAM is a valid\n",
      " |              parameter name and \"VALUE\" is a string with corresponding value.\n",
      " |      \n",
      " |      Examples\n",
      " |      --------\n",
      " |      >>> prm = MCCEParams(\"~/mcce/\")\n",
      " |      >>> prm.edit_parameters(DO_PREMCCE=\"t\", DO_ROTAMERS=\"t\", DO_ENERGY=\"t\", DO_MONTE=\"f\")\n",
      " |      >>> prm.edit_parameters(DO_PREMCCE=\"t\", DO_ROTAMERS=\"t\")\n",
      " |      \n",
      " |      Notes\n",
      " |      -----\n",
      " |      During parameter editing, there is no way to check if legal values are passed on, this is probably handled by\n",
      " |      MCCE initialization step. It is therefore assumed that this function is used responsibly.\n",
      " |  \n",
      " |  load_params(self)\n",
      " |      Loads parameters for MCCE calculation from run.prm file in MCCE installation directory.\n",
      " |      \n",
      " |      Returns\n",
      " |      -------\n",
      " |      params : dict\n",
      " |              A dictionary of MCCE calculation parameters, each element of the dictionary is a key: value pair where,\n",
      " |              key = string, containing the parameter name in the prm file, without parentheses\n",
      " |              value = list, first element is the value and second element is the description, both are read from the prm file\n",
      " |  \n",
      " |  write_runprm(self, destination_dir)\n",
      " |      Writes run.prm file in a sub-directory\n",
      " |      \n",
      " |      Parameters\n",
      " |      ----------\n",
      " |      destination_dir : string\n",
      " |              String containing path of the directory, where run.prm will be saved.\n",
      " |  \n",
      " |  write_submitsh(self, destination_dir, run_name='')\n",
      " |  \n",
      " |  ----------------------------------------------------------------------\n",
      " |  Data descriptors defined here:\n",
      " |  \n",
      " |  __dict__\n",
      " |      dictionary for instance variables (if defined)\n",
      " |  \n",
      " |  __weakref__\n",
      " |      list of weak references to the object (if defined)\n",
      "\n"
     ]
    },
    {
     "name": "stderr",
     "output_type": "stream",
     "text": [
      "ERROR: Line magic function `%autoreload` not found.\n"
     ]
    }
   ],
   "source": [
    "%load_ext autoreload\n",
    "%autoreload 2\n",
    "\n",
    "import sys\n",
    "sys.path.append(\"/home/kamran/automate-mcce/\")\n",
    "from automated_mcce import MCCEParams\n",
    "help(MCCEParams)\n"
   ]
  },
  {
   "cell_type": "code",
   "execution_count": null,
   "metadata": {
    "collapsed": true
   },
   "outputs": [],
   "source": []
  },
  {
   "cell_type": "code",
   "execution_count": null,
   "metadata": {
    "collapsed": true
   },
   "outputs": [],
   "source": []
  }
 ],
 "metadata": {
  "kernelspec": {
   "display_name": "Python 2",
   "language": "python",
   "name": "python2"
  },
  "language_info": {
   "codemirror_mode": {
    "name": "ipython",
    "version": 2
   },
   "file_extension": ".py",
   "mimetype": "text/x-python",
   "name": "python",
   "nbconvert_exporter": "python",
   "pygments_lexer": "ipython2",
   "version": "2.7.11"
  }
 },
 "nbformat": 4,
 "nbformat_minor": 0
}
