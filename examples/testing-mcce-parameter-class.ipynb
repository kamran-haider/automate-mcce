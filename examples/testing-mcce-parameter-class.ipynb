{
 "cells": [
  {
   "cell_type": "markdown",
   "metadata": {
    "collapsed": true
   },
   "source": [
    "The MCCE Parameter Class\n",
    "--\n",
    "\n",
    "The idea behind MCCE parameter class is to enable:\n",
    "* automated creation of run.prm files\n",
    "* editing of MCCE parameters\n",
    "\n",
    "The `MCCEParams` class in `automate-mcce` module tries to accompish just that. Here we will import that class and try out some of its functionality.\n",
    "First things first, let's import it and look at its documentation:"
   ]
  },
  {
   "cell_type": "code",
   "execution_count": null,
   "metadata": {
    "collapsed": false
   },
   "outputs": [],
   "source": [
    "%load_ext autoreload\n",
    "%autoreload 2\n",
    "\n",
    "import sys\n",
    "sys.path.append(\"/home/kamran/automate-mcce/\")\n",
    "from automated_mcce import MCCEParams\n",
    "help(MCCEParams)\n"
   ]
  },
  {
   "cell_type": "markdown",
   "metadata": {
    "collapsed": true
   },
   "source": [
    "Let's now use MCCEParams class to create a simple MCCE parameter object. As shown above, we need to specifiy the location of MCCE installation. Additionally, we can provide `calculation_type`, which is by default set to `quick'."
   ]
  },
  {
   "cell_type": "code",
   "execution_count": null,
   "metadata": {
    "collapsed": false
   },
   "outputs": [],
   "source": [
    "parm = MCCEParams(\"/home/kamran/mcce\", calculation_type=\"full\")"
   ]
  },
  {
   "cell_type": "markdown",
   "metadata": {},
   "source": [
    "Note that `parms` object already contains the MCCE control parameter dictionary, let's see what does it look like."
   ]
  },
  {
   "cell_type": "code",
   "execution_count": null,
   "metadata": {
    "collapsed": false
   },
   "outputs": [],
   "source": [
    "print \"The current parameter values are: \"\n",
    "for key in parm.mcce_params:\n",
    "    print key, parm.mcce_params[key][0], parm.mcce_params[key][1] "
   ]
  },
  {
   "cell_type": "markdown",
   "metadata": {},
   "source": [
    "Now we go ahead and edit some parameters."
   ]
  },
  {
   "cell_type": "code",
   "execution_count": 28,
   "metadata": {
    "collapsed": false
   },
   "outputs": [
    {
     "name": "stdout",
     "output_type": "stream",
     "text": [
      "['t', '       step 1: pre-run, pdb-> mcce pdb                   ']\n",
      "['t', '       step 2: make rotatmers                            ']\n",
      "['t', '       step 3: do energy calculations                    ']\n"
     ]
    }
   ],
   "source": [
    "parm.edit_parameters(DO_PREMCCE=\"t\", DO_ROTAMERS=\"t\", DO_ENERGY=\"t\")\n",
    "# to confirm\n",
    "print parm.mcce_params[\"DO_PREMCCE\"]\n",
    "print parm.mcce_params[\"DO_ROTAMERS\"]\n",
    "print parm.mcce_params[\"DO_ENERGY\"]\n"
   ]
  },
  {
   "cell_type": "code",
   "execution_count": 29,
   "metadata": {
    "collapsed": true
   },
   "outputs": [],
   "source": [
    "parm.write_runprm(\"\")"
   ]
  },
  {
   "cell_type": "code",
   "execution_count": null,
   "metadata": {
    "collapsed": false
   },
   "outputs": [],
   "source": [
    "! head run.prm"
   ]
  }
 ],
 "metadata": {
  "kernelspec": {
   "display_name": "Python 2",
   "language": "python",
   "name": "python2"
  },
  "language_info": {
   "codemirror_mode": {
    "name": "ipython",
    "version": 2
   },
   "file_extension": ".py",
   "mimetype": "text/x-python",
   "name": "python",
   "nbconvert_exporter": "python",
   "pygments_lexer": "ipython2",
   "version": "2.7.11"
  }
 },
 "nbformat": 4,
 "nbformat_minor": 0
}
